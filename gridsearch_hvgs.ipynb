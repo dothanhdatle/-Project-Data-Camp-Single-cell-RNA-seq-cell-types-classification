{
 "cells": [
  {
   "cell_type": "code",
   "execution_count": 1,
   "metadata": {},
   "outputs": [],
   "source": [
    "import numpy as np\n",
    "import seaborn as sns\n",
    "import matplotlib.pyplot as plt\n",
    "from scipy.stats import median_abs_deviation\n",
    "from sklearn.pipeline import make_pipeline\n",
    "from sklearn.model_selection import train_test_split, cross_val_score\n",
    "from sklearn.metrics import balanced_accuracy_score\n",
    "from sklearn.decomposition import PCA\n",
    "\n",
    "from sklearn.linear_model import RidgeClassifier, LogisticRegression, SGDClassifier\n",
    "from sklearn.discriminant_analysis import LinearDiscriminantAnalysis\n",
    "from sklearn.discriminant_analysis import QuadraticDiscriminantAnalysis\n",
    "from sklearn.tree import DecisionTreeClassifier\n",
    "from sklearn.naive_bayes import GaussianNB\n",
    "from sklearn.neighbors import KNeighborsClassifier\n",
    "from sklearn.svm import SVC\n",
    "from sklearn.ensemble import RandomForestClassifier, BaggingClassifier, AdaBoostClassifier, GradientBoostingClassifier, ExtraTreesClassifier\n",
    "from sklearn.multiclass import OneVsRestClassifier, OneVsOneClassifier\n",
    "from sklearn.neural_network import MLPClassifier\n",
    "from lightgbm import LGBMClassifier\n",
    "from sklearn.ensemble import StackingClassifier\n",
    "\n",
    "from sklearn.model_selection import cross_val_score\n",
    "from sklearn.metrics import make_scorer\n",
    "from sklearn.model_selection import GridSearchCV\n",
    "from sklearn.preprocessing import StandardScaler\n",
    "\n",
    "# import functions.py\n",
    "from functions import _preprocess_X, TSNE_reduction, UMAP_reduction, HVGs"
   ]
  },
  {
   "cell_type": "markdown",
   "metadata": {},
   "source": [
    "# Loading data"
   ]
  },
  {
   "cell_type": "code",
   "execution_count": 2,
   "metadata": {},
   "outputs": [],
   "source": [
    "from problem import get_train_data, get_test_data\n",
    "X_train, y_train = get_train_data()\n",
    "X_test, y_test = get_test_data()"
   ]
  },
  {
   "cell_type": "code",
   "execution_count": 3,
   "metadata": {},
   "outputs": [
    {
     "data": {
      "text/plain": [
       "array([[1., 0., 0., ..., 3., 2., 0.],\n",
       "       [0., 0., 0., ..., 0., 0., 0.],\n",
       "       [0., 0., 0., ..., 0., 0., 0.],\n",
       "       ...,\n",
       "       [1., 0., 0., ..., 0., 0., 0.],\n",
       "       [0., 0., 0., ..., 1., 0., 0.],\n",
       "       [0., 0., 0., ..., 0., 0., 0.]], dtype=float32)"
      ]
     },
     "execution_count": 3,
     "metadata": {},
     "output_type": "execute_result"
    }
   ],
   "source": [
    "# convert to array\n",
    "X_train = X_train.toarray()\n",
    "X_train"
   ]
  },
  {
   "cell_type": "markdown",
   "metadata": {},
   "source": [
    "# Data Preprocession"
   ]
  },
  {
   "cell_type": "markdown",
   "metadata": {},
   "source": [
    "**Normalization data using highly deviance genes**"
   ]
  },
  {
   "cell_type": "code",
   "execution_count": 4,
   "metadata": {},
   "outputs": [],
   "source": [
    "# X normalization \n",
    "X_bd_train, y_bd_train= _preprocess_X(X_train, y_train, quality_control=True)"
   ]
  },
  {
   "cell_type": "code",
   "execution_count": 5,
   "metadata": {},
   "outputs": [
    {
     "data": {
      "text/plain": [
       "<AxesSubplot: ylabel='Density'>"
      ]
     },
     "execution_count": 5,
     "metadata": {},
     "output_type": "execute_result"
    },
    {
     "data": {
      "image/png": "[encoded data removed]",
      "text/plain": [
       "<Figure size 640x480 with 1 Axes>"
      ]
     },
     "metadata": {},
     "output_type": "display_data"
    }
   ],
   "source": [
    "sns.kdeplot(X_bd_train.sum(axis=1), color='skyblue', fill=True)"
   ]
  },
  {
   "cell_type": "code",
   "execution_count": 6,
   "metadata": {},
   "outputs": [],
   "source": [
    "ind = HVGs(X_bd_train, top_proportion=0.2, num_genes=None)\n",
    "X_bd_train = X_bd_train[:, ind]"
   ]
  },
  {
   "cell_type": "code",
   "execution_count": 7,
   "metadata": {},
   "outputs": [],
   "source": [
    "scaler = StandardScaler()\n",
    "X_bd_train = scaler.fit_transform(X_bd_train)"
   ]
  },
  {
   "cell_type": "code",
   "execution_count": null,
   "metadata": {},
   "outputs": [],
   "source": [
    "# init PCA with 50 components\n",
    "pca = PCA(n_components=50)\n",
    "# compute PCA\n",
    "X_bd_train = pca.fit_transform(X_bd_train)"
   ]
  },
  {
   "cell_type": "markdown",
   "metadata": {},
   "source": [
    "**Normalization using highly variable genes**"
   ]
  },
  {
   "cell_type": "markdown",
   "metadata": {},
   "source": [
    "### GridSearchCV"
   ]
  },
  {
   "cell_type": "code",
   "execution_count": 9,
   "metadata": {},
   "outputs": [],
   "source": [
    "# Function to do grid search \n",
    "def grid_cv(params_grid, model, X, y, k):\n",
    "    grid_search = GridSearchCV(model, params_grid, scoring='balanced_accuracy', cv=k, n_jobs=-1, refit=True)\n",
    "    grid_search.fit(X, y)\n",
    "\n",
    "    best_params = grid_search.cv_results_['params'][grid_search.best_index_]\n",
    "    best_score = grid_search.best_score_\n",
    "    print('The best hyper-parameters are {0}, with accuracy = {1}.'.format(best_params, best_score))"
   ]
  },
  {
   "cell_type": "markdown",
   "metadata": {},
   "source": [
    "**LightGBM**"
   ]
  },
  {
   "cell_type": "code",
   "execution_count": 11,
   "metadata": {},
   "outputs": [
    {
     "data": {
      "text/plain": [
       "array([0. , 0.1, 0.2, 0.3, 0.4, 0.5, 0.6, 0.7, 0.8, 0.9, 1. ])"
      ]
     },
     "execution_count": 11,
     "metadata": {},
     "output_type": "execute_result"
    }
   ],
   "source": [
    "np.linspace(0, 1, 11)"
   ]
  },
  {
   "cell_type": "code",
   "execution_count": 12,
   "metadata": {},
   "outputs": [
    {
     "name": "stdout",
     "output_type": "stream",
     "text": [
      "The best hyper-parameters are {'learning_rate': 0.6, 'max_depth': 5, 'num_leaves': 31}, with accuracy = 0.8621646642004139.\n"
     ]
    }
   ],
   "source": [
    "params = {'learning_rate': np.linspace(0.1, 1, 10),\n",
    "          'num_leaves':[31],\n",
    "          'max_depth' :[-1, 5]}\n",
    "\n",
    "lgbm = LGBMClassifier(random_state=42)\n",
    "grid_cv(params, lgbm, X_bd_train, y_bd_train, 5)"
   ]
  },
  {
   "cell_type": "code",
   "execution_count": null,
   "metadata": {},
   "outputs": [],
   "source": [
    "params = {'learning_rate':[0.1, 0.01],\n",
    "          'num_leaves':[15, 31],\n",
    "          'max_depth' :[-1, 4, 5],\n",
    "          'min_data_in_leaf':[20, 25]}\n",
    "\n",
    "lgbm = LGBMClassifier()\n",
    "grid_cv(params, lgbm, X_bd_train, y_bd_train, 4)"
   ]
  },
  {
   "cell_type": "markdown",
   "metadata": {},
   "source": [
    "**Gradient Boosting**"
   ]
  },
  {
   "cell_type": "code",
   "execution_count": 13,
   "metadata": {},
   "outputs": [
    {
     "name": "stdout",
     "output_type": "stream",
     "text": [
      "The best hyper-parameters are {'learning_rate': 0.1, 'max_depth': 3, 'max_features': None, 'min_samples_leaf': 1, 'min_samples_split': 2}, with accuracy = 0.8202659044963675.\n"
     ]
    }
   ],
   "source": [
    "params = {\"learning_rate\": [0.01, 0.1],\n",
    "          \"min_samples_split\": [0.8, 2],\n",
    "          \"min_samples_leaf\": [0.5, 1],\n",
    "          \"max_depth\":[3,5,8],\n",
    "          \"max_features\":[\"log2\",\"sqrt\", None]}\n",
    "\n",
    "gb_clf = GradientBoostingClassifier(random_state=42)\n",
    "grid_cv(params, gb_clf, X_bd_train, y_bd_train, 4)"
   ]
  },
  {
   "cell_type": "code",
   "execution_count": null,
   "metadata": {},
   "outputs": [],
   "source": [
    "params = {\"learning_rate\": [0.01, 0.1],\n",
    "          \"min_samples_split\": [0.8, 1],\n",
    "          \"min_samples_leaf\": [0.1, 0.5, 1],\n",
    "          \"max_depth\":[3,5,8],\n",
    "          \"max_features\":[\"log2\",\"sqrt\", None],\n",
    "          \"n_estimators\":[10, 100]}\n",
    "\n",
    "gb_clf = GradientBoostingClassifier(random_state=42)\n",
    "grid_cv(params, gb_clf, X_bd_train, y_bd_train, 4)"
   ]
  },
  {
   "cell_type": "markdown",
   "metadata": {},
   "source": [
    "**Logistic Regression**"
   ]
  },
  {
   "cell_type": "code",
   "execution_count": 14,
   "metadata": {},
   "outputs": [
    {
     "name": "stderr",
     "output_type": "stream",
     "text": [
      "c:\\Users\\Admin\\AppData\\Local\\Programs\\Python\\Python310\\lib\\site-packages\\sklearn\\model_selection\\_validation.py:378: FitFailedWarning: \n",
      "150 fits failed out of a total of 600.\n",
      "The score on these train-test partitions for these parameters will be set to nan.\n",
      "If these failures are not expected, you can try to debug them by setting error_score='raise'.\n",
      "\n",
      "Below are more details about the failures:\n",
      "--------------------------------------------------------------------------------\n",
      "150 fits failed with the following error:\n",
      "Traceback (most recent call last):\n",
      "  File \"c:\\Users\\Admin\\AppData\\Local\\Programs\\Python\\Python310\\lib\\site-packages\\sklearn\\model_selection\\_validation.py\", line 686, in _fit_and_score\n",
      "    estimator.fit(X_train, y_train, **fit_params)\n",
      "  File \"c:\\Users\\Admin\\AppData\\Local\\Programs\\Python\\Python310\\lib\\site-packages\\sklearn\\linear_model\\_logistic.py\", line 1291, in fit\n",
      "    fold_coefs_ = Parallel(n_jobs=self.n_jobs, verbose=self.verbose, prefer=prefer)(\n",
      "  File \"c:\\Users\\Admin\\AppData\\Local\\Programs\\Python\\Python310\\lib\\site-packages\\sklearn\\utils\\parallel.py\", line 63, in __call__\n",
      "    return super().__call__(iterable_with_config)\n",
      "  File \"c:\\Users\\Admin\\AppData\\Local\\Programs\\Python\\Python310\\lib\\site-packages\\joblib\\parallel.py\", line 1085, in __call__\n",
      "    if self.dispatch_one_batch(iterator):\n",
      "  File \"c:\\Users\\Admin\\AppData\\Local\\Programs\\Python\\Python310\\lib\\site-packages\\joblib\\parallel.py\", line 901, in dispatch_one_batch\n",
      "    self._dispatch(tasks)\n",
      "  File \"c:\\Users\\Admin\\AppData\\Local\\Programs\\Python\\Python310\\lib\\site-packages\\joblib\\parallel.py\", line 819, in _dispatch\n",
      "    job = self._backend.apply_async(batch, callback=cb)\n",
      "  File \"c:\\Users\\Admin\\AppData\\Local\\Programs\\Python\\Python310\\lib\\site-packages\\joblib\\_parallel_backends.py\", line 208, in apply_async\n",
      "    result = ImmediateResult(func)\n",
      "  File \"c:\\Users\\Admin\\AppData\\Local\\Programs\\Python\\Python310\\lib\\site-packages\\joblib\\_parallel_backends.py\", line 597, in __init__\n",
      "    self.results = batch()\n",
      "  File \"c:\\Users\\Admin\\AppData\\Local\\Programs\\Python\\Python310\\lib\\site-packages\\joblib\\parallel.py\", line 288, in __call__\n",
      "    return [func(*args, **kwargs)\n",
      "  File \"c:\\Users\\Admin\\AppData\\Local\\Programs\\Python\\Python310\\lib\\site-packages\\joblib\\parallel.py\", line 288, in <listcomp>\n",
      "    return [func(*args, **kwargs)\n",
      "  File \"c:\\Users\\Admin\\AppData\\Local\\Programs\\Python\\Python310\\lib\\site-packages\\sklearn\\utils\\parallel.py\", line 123, in __call__\n",
      "    return self.function(*args, **kwargs)\n",
      "  File \"c:\\Users\\Admin\\AppData\\Local\\Programs\\Python\\Python310\\lib\\site-packages\\sklearn\\linear_model\\_logistic.py\", line 521, in _logistic_regression_path\n",
      "    alpha = (1.0 / C) * (1 - l1_ratio)\n",
      "TypeError: unsupported operand type(s) for -: 'int' and 'NoneType'\n",
      "\n",
      "  warnings.warn(some_fits_failed_message, FitFailedWarning)\n",
      "c:\\Users\\Admin\\AppData\\Local\\Programs\\Python\\Python310\\lib\\site-packages\\sklearn\\model_selection\\_search.py:952: UserWarning: One or more of the test scores are non-finite: [0.85874494 0.85030785 0.85517351        nan 0.85874494 0.86721751\n",
      " 0.85517351        nan 0.85874494 0.86625665 0.85874494        nan\n",
      " 0.85874494 0.85483908 0.85874494        nan 0.85874494 0.86103854\n",
      " 0.85874494        nan 0.85874494 0.8629428  0.85874494        nan\n",
      " 0.85874494 0.86386873 0.85874494        nan 0.85874494 0.86214915\n",
      " 0.85874494        nan 0.85874494 0.86403595 0.85874494        nan\n",
      " 0.85874494 0.86046452 0.85874494        nan 0.85874494 0.86044705\n",
      " 0.85874494        nan 0.85874494 0.86044705 0.85874494        nan\n",
      " 0.85874494 0.86044705 0.85874494        nan 0.85874494 0.8649444\n",
      " 0.85874494        nan 0.85874494 0.8649444  0.85874494        nan\n",
      " 0.85874494 0.8658878  0.85874494        nan 0.85874494 0.8658878\n",
      " 0.85874494        nan 0.85874494 0.86683119 0.85874494        nan\n",
      " 0.85874494 0.86775712 0.85874494        nan 0.85874494 0.86418569\n",
      " 0.85874494        nan 0.85874494 0.86418569 0.85874494        nan\n",
      " 0.85874494 0.86418569 0.85874494        nan 0.85874494 0.86418569\n",
      " 0.85874494        nan 0.85874494 0.86231637 0.85874494        nan\n",
      " 0.85874494 0.86231637 0.85874494        nan 0.85874494 0.86231637\n",
      " 0.85874494        nan 0.85874494 0.86231637 0.85874494        nan\n",
      " 0.85874494 0.86231637 0.85874494        nan 0.85874494 0.86231637\n",
      " 0.85874494        nan 0.85874494 0.86231637 0.85874494        nan]\n",
      "  warnings.warn(\n"
     ]
    },
    {
     "name": "stdout",
     "output_type": "stream",
     "text": [
      "The best hyper-parameters are {'C': 1.9, 'penalty': 'l1'}, with accuracy = 0.8677571205873094.\n"
     ]
    }
   ],
   "source": [
    "params = {'C': np.linspace(0.1, 3, 30),\n",
    "          'penalty': [None, 'l1', 'l2', 'elasticnet']}\n",
    "\n",
    "logistic = LogisticRegression(solver='saga', tol=1e-2, random_state=42)\n",
    "grid_cv(params, logistic, X_bd_train, y_bd_train, 5)"
   ]
  },
  {
   "cell_type": "markdown",
   "metadata": {},
   "source": [
    "**MLP**"
   ]
  },
  {
   "cell_type": "code",
   "execution_count": 15,
   "metadata": {},
   "outputs": [
    {
     "name": "stdout",
     "output_type": "stream",
     "text": [
      "The best hyper-parameters are {'activation': 'logistic', 'learning_rate': 'constant', 'solver': 'lbfgs'}, with accuracy = 0.8593858254732136.\n"
     ]
    }
   ],
   "source": [
    "params = {'activation': ['identity', 'logistic', 'tanh', 'relu'],\n",
    "          'solver': ['lbfgs', 'sgd', 'adam'],\n",
    "          'learning_rate':['constant', 'invscaling', 'adaptive']}\n",
    "\n",
    "mlp = MLPClassifier(random_state=42)\n",
    "grid_cv(params, mlp, X_bd_train, y_bd_train, 5)"
   ]
  },
  {
   "cell_type": "markdown",
   "metadata": {},
   "source": [
    "Stacking"
   ]
  },
  {
   "cell_type": "code",
   "execution_count": 10,
   "metadata": {},
   "outputs": [],
   "source": [
    "estimators = [\n",
    "            ('mlp', MLPClassifier(random_state=42)),\n",
    "            ('OVR_lgbm', OneVsRestClassifier(LGBMClassifier())),\n",
    "            ('lgbm', LGBMClassifier())\n",
    "        ]\n",
    "sclf = StackingClassifier(estimators= estimators , final_estimator=make_pipeline(StandardScaler(), LogisticRegression()))\n",
    "\n",
    "params = {'mlp__learning_rate_init': [1e-2, 0.1],\n",
    "          'mlp__early_stopping': [False, True],\n",
    "          'lgbm__learning_rate': [1e-2, 0.1, 0.5]}\n",
    "\n",
    "grid_cv(params, sclf, X_bd_train, y_bd_train, 5)"
   ]
  },
  {
   "cell_type": "code",
   "execution_count": 13,
   "metadata": {},
   "outputs": [
    {
     "name": "stdout",
     "output_type": "stream",
     "text": [
      "The best hyper-parameters are {'gb__learning_rate': 0.1, 'gb__max_features': 'log2', 'gb__n_estimators': 400}, with accuracy = 0.8720202319025658.\n"
     ]
    }
   ],
   "source": [
    "from sklearn.pipeline import make_pipeline\n",
    "estimators = [\n",
    "            ('ridge', RidgeClassifier(random_state=42)),\n",
    "            ('sgd', SGDClassifier(random_state=42)),\n",
    "            ('mlp', make_pipeline(\n",
    "                StandardScaler(),\n",
    "                MLPClassifier(random_state=42)\n",
    "            )),\n",
    "            ('xrf', ExtraTreesClassifier(n_estimators=100, random_state=42)),\n",
    "            ('gb', GradientBoostingClassifier(random_state=42)),\n",
    "            ('lgbm', LGBMClassifier(\n",
    "                learning_rate=0.5, verbose=-100, n_jobs=-1))\n",
    "        ]\n",
    "sclf = StackingClassifier(estimators=estimators, final_estimator=make_pipeline(StandardScaler(), LogisticRegression()))\n",
    "\n",
    "params = {'gb__n_estimators': [400, 1000],\n",
    "          'gb__learning_rate': [0.01, 0.1],\n",
    "          'gb__max_features': ['log2']}\n",
    "\n",
    "grid_cv(params, sclf, X_bd_train, y_bd_train, 5)"
   ]
  },
  {
   "cell_type": "code",
   "execution_count": 14,
   "metadata": {},
   "outputs": [
    {
     "name": "stdout",
     "output_type": "stream",
     "text": [
      "The best hyper-parameters are {'gb__learning_rate': 0.01, 'gb__max_features': 'log2', 'gb__n_estimators': 1000}, with accuracy = 0.8454136278579066.\n"
     ]
    }
   ],
   "source": [
    "from sklearn.pipeline import make_pipeline\n",
    "estimators = [('gb', GradientBoostingClassifier()),\n",
    "              ('mlp', MLPClassifier(random_state=42)),\n",
    "              ('lgbm', LGBMClassifier())]\n",
    "\n",
    "sclf_1 = StackingClassifier(estimators=estimators, final_estimator=LogisticRegression())\n",
    "\n",
    "params = {'gb__n_estimators': [700, 800, 900, 1000],\n",
    "          'gb__learning_rate': [0.01, 0.1],\n",
    "          'gb__max_features':['log2']}\n",
    "\n",
    "grid_cv(params, sclf_1, X_bd_train, y_bd_train, 3)"
   ]
  }
 ],
 "metadata": {
  "kernelspec": {
   "display_name": "data-camp",
   "language": "python",
   "name": "python3"
  },
  "language_info": {
   "codemirror_mode": {
    "name": "ipython",
    "version": 3
   },
   "file_extension": ".py",
   "mimetype": "text/x-python",
   "name": "python",
   "nbconvert_exporter": "python",
   "pygments_lexer": "ipython3",
   "version": "3.10.6"
  }
 },
 "nbformat": 4,
 "nbformat_minor": 2
}
